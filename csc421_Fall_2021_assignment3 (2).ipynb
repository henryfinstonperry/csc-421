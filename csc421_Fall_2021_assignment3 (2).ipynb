{
 "cells": [
  {
   "cell_type": "markdown",
   "metadata": {},
   "source": [
    "# CSC421 Fall 2021 Assignment 3 \n",
    "### Author: George Tzanetakis \n",
    "\n",
    "This notebook is based on the topics covered in **Chapter 12 - Quantifying Uncertainty **, **Chapter 13 Probabilistic Reasoning** from the book *Artificial Intelligence: A Modern Approach.*  You are welcome and actually it can be educational to look at the code at the aima-code repository as well as other code resources you can find on the web. However, make sure you understand any code that you incoporate. \n",
    "\n",
    "The assignment structure is as follows - each item is worth 1 point: \n",
    "\n",
    "1. Snakes and ladder simulation (Basic) - basic rolling and movement simulation, no ladders/snakes \n",
    "2. Snakes and ladder simulation (Basic) - multiple simulations and recording of number of rolls \n",
    "3. Snakes and ladder simulation (Expected) - adding of user-specified ladders/snakes \n",
    "4. Snakes and ladder simulation (Expected) - simulation to determine probability distribution of number of rolls \n",
    "5. Snakes and ladder simulation (Advanced) - exact inference + simulation with different ending rules \n",
    "6. Naive Bayes text classsification (Basic) - conditional probabilities for dictionary words \n",
    "7. Naive Bayes text classification (Basic) - markdown equations for Bernoulli \n",
    "8. Naive Bayes text classification (Expected) - prediction of movie review polarity \n",
    "9. Naive Bayes text classification (Expected) - classification accuracy and confusion matrix \n",
    "10. Naive Bayes text classification (Advanced) - probabilitistic generation of movie reviews \n",
    "\n",
    "The grading will be done in 0.5 increments. 1 point for correct answer, 0.5 points for partial or incorrect \n",
    "but reasonable answer and 0.0 for no answer or completely wrong answer. \n"
   ]
  },
  {
   "cell_type": "markdown",
   "metadata": {},
   "source": [
    "# Introduction \n",
    "\n",
    "This question uses the board game of snakes and ladders to explore the concepts behind probability, \n",
    "stochastic simulation as well as exact and approximate inference. I assume that most of you are familiar \n",
    "with snakes and ladders. If you need a refresher check the following link: \n",
    "\n",
    "https://www.ymimports.com/pages/how-to-play-snakes-and-ladders\n",
    "\n",
    "\n"
   ]
  },
  {
   "cell_type": "markdown",
   "metadata": {},
   "source": [
    "# Question 1 (Basic)  - 1 point\n",
    "\n",
    "Your first task will be to write a simple movement simulator on a snakes and ladders board. \n",
    "For this question you can ignore the snakes and ladders and just simply assume you only \n",
    "have to deal with moving. You will need to simulate rolling the die - this can be done \n",
    "by using the Python *random* module and the *randint* method. Your function *play_game* \n",
    "will take as input the length of the board (an integer), \"play\" the game by rolling the die \n",
    "multiple times until the sum of rolls is larger or equal to the length of the board.  (note: \n",
    "this is one of the possible and simplest end rules). The function should return the total \n",
    "number of rolls required to finish the the particular game that was played. Obviously \n",
    "this number will vary as it depends on the specific random rolls performed during the movement \n",
    "simulation. \n",
    "\n",
    "\n",
    "\n",
    "\n"
   ]
  },
  {
   "cell_type": "code",
   "execution_count": 6,
   "metadata": {},
   "outputs": [
    {
     "name": "stdout",
     "output_type": "stream",
     "text": [
      "The game took this many rolls:  6\n"
     ]
    }
   ],
   "source": [
    "# YOUR CODE GOES HERE \n",
    "#Assumptions: None, straightforward question!\n",
    "\n",
    "import random\n",
    "\n",
    "def play_game(board_len):\n",
    "    pos = 0\n",
    "    roll_count = 0\n",
    "    while (pos < board_len):\n",
    "        die_roll = random.randint(1,6)\n",
    "        #print(\"Current die roll: \", die_roll)\n",
    "        pos += die_roll\n",
    "        roll_count += 1\n",
    "    return roll_count\n",
    "\n",
    "print(\"The game took this many rolls: \",play_game(15))"
   ]
  },
  {
   "cell_type": "markdown",
   "metadata": {},
   "source": [
    "# Question 2 (Basic) - 1 point\n",
    "\n",
    "Your next task is to collect information about the probability distribution of number of rolls using the *play_game* function you implemented in the previous subquestion. Simulate playing the game 1000 times with a board length of 100 and record the number of rolls for each simulation. Show the histogram of the number of rolls for this simulation. You don't need to plot the histogram but can simply show the counts for each number of rolls as text. You can also create a plot using either the *matplotlib* or *bokeh* plotting frameworks. Make sure you include appropriate pip install and import statements in your notebook and check that it works in the Jupyterhub of the course. \n",
    "\n"
   ]
  },
  {
   "cell_type": "code",
   "execution_count": 16,
   "metadata": {
    "tags": []
   },
   "outputs": [
    {
     "name": "stdout",
     "output_type": "stream",
     "text": [
      "Requirement already satisfied: matplotlib in /opt/conda/lib/python3.9/site-packages (3.5.0)\n",
      "Requirement already satisfied: pillow>=6.2.0 in /opt/conda/lib/python3.9/site-packages (from matplotlib) (8.4.0)\n",
      "Requirement already satisfied: numpy>=1.17 in /opt/conda/lib/python3.9/site-packages (from matplotlib) (1.21.4)\n",
      "Requirement already satisfied: cycler>=0.10 in /opt/conda/lib/python3.9/site-packages (from matplotlib) (0.11.0)\n",
      "Requirement already satisfied: fonttools>=4.22.0 in /opt/conda/lib/python3.9/site-packages (from matplotlib) (4.28.1)\n",
      "Requirement already satisfied: kiwisolver>=1.0.1 in /opt/conda/lib/python3.9/site-packages (from matplotlib) (1.3.2)\n",
      "Requirement already satisfied: python-dateutil>=2.7 in /opt/conda/lib/python3.9/site-packages (from matplotlib) (2.8.1)\n",
      "Requirement already satisfied: packaging>=20.0 in /opt/conda/lib/python3.9/site-packages (from matplotlib) (20.9)\n",
      "Requirement already satisfied: pyparsing>=2.2.1 in /opt/conda/lib/python3.9/site-packages (from matplotlib) (2.4.7)\n",
      "Requirement already satisfied: six>=1.5 in /opt/conda/lib/python3.9/site-packages (from python-dateutil>=2.7->matplotlib) (1.16.0)\n"
     ]
    }
   ],
   "source": [
    "!pip install matplotlib"
   ]
  },
  {
   "cell_type": "code",
   "execution_count": 17,
   "metadata": {
    "scrolled": true
   },
   "outputs": [
    {
     "data": {
      "text/plain": [
       "(array([  3.,  32., 150., 123., 272., 246.,  76.,  74.,  19.,   5.]),\n",
       " array([21. , 22.7, 24.4, 26.1, 27.8, 29.5, 31.2, 32.9, 34.6, 36.3, 38. ]),\n",
       " <BarContainer object of 10 artists>)"
      ]
     },
     "execution_count": 17,
     "metadata": {},
     "output_type": "execute_result"
    },
    {
     "data": {
      "image/png": "[encoded data removed]",
      "text/plain": [
       "<Figure size 432x288 with 1 Axes>"
      ]
     },
     "metadata": {
      "needs_background": "light"
     },
     "output_type": "display_data"
    }
   ],
   "source": [
    "# YOUR CODE GOES HERE \n",
    "# Assumptions: Just displayed as a histogram\n",
    "import matplotlib.pyplot as plt\n",
    "\n",
    "roll_list = []\n",
    "for i in range(1000):\n",
    "    roll_list.append(play_game(100))\n",
    "    #print(roll_list)\n",
    "plt.hist(roll_list)\n"
   ]
  },
  {
   "cell_type": "markdown",
   "metadata": {},
   "source": [
    "# Question 3 (Expected) 1 point \n",
    "\n",
    "Extent your *play_game* method to take as input a specification of snake and ladder positions and then perform the appropriate movement simulation. Just as before playing the game returns the number of rolls required to finish the game using the same simple end rule as the previous subquestions. \n",
    "\n",
    "<img src=\"snakes_ladders.png\" width=\"50%\"/>\n",
    "\n",
    "The snake and ladders positions will be encoded as a list of tuples. If the first number of the tuple is smaller than the second one it is ladder otherwise it is a snake. For example two of the snakes and one of the ladders\n",
    "in the board above would be represented as: "
   ]
  },
  {
   "cell_type": "code",
   "execution_count": 18,
   "metadata": {},
   "outputs": [
    {
     "name": "stdout",
     "output_type": "stream",
     "text": [
      "[(34, 6), (32, 10), (1, 38)]\n"
     ]
    }
   ],
   "source": [
    "snakeA = (34,6)\n",
    "snakeB = (32,10)\n",
    "ladderC = (1,38)\n",
    "snake_ladder_list = [snakeA,snakeB,ladderC]\n",
    "print(snake_ladder_list)"
   ]
  },
  {
   "cell_type": "markdown",
   "metadata": {},
   "source": [
    "Your play game function should take as input the snake and ladder specification. For testing and experiments use the board provided in the image above. "
   ]
  },
  {
   "cell_type": "code",
   "execution_count": 19,
   "metadata": {
    "scrolled": true
   },
   "outputs": [
    {
     "name": "stdout",
     "output_type": "stream",
     "text": [
      "Number of rolls:  34\n"
     ]
    }
   ],
   "source": [
    "# YOUR CODE GOES HERE \n",
    "# Assumptions: Always go from first snake/ladder value to second\n",
    "# Snakes and ladders board is always set up the same way with size 100\n",
    "snake1 = (32,10)\n",
    "snake2 = (36,6)\n",
    "snake3 = (48,26)\n",
    "snake4 = (62,18)\n",
    "snake5 = (88,24)\n",
    "snake6 = (95, 56)\n",
    "snake7 = (97, 78)\n",
    "ladder1 = (1,38)\n",
    "ladder2 = (4,14)\n",
    "ladder3 = (8,30)\n",
    "ladder4 = (21,42)\n",
    "ladder5 = (28,76)\n",
    "ladder6 = (50,67)\n",
    "ladder7 = (71,92)\n",
    "ladder8 = (80,99)\n",
    "snakes_n_ladders = [snake1,snake2,snake3,snake4,snake5,snake6,snake7,\n",
    "                    ladder1,ladder2,ladder3,ladder4,ladder5,ladder6,ladder7,ladder8]\n",
    "#print(snakes_n_ladders)\n",
    "def play_snl():\n",
    "    board_size = 100\n",
    "    position = 0\n",
    "    num_rolls = 0\n",
    "    while (position < board_size):\n",
    "        curr_roll = random.randint(1,6)\n",
    "        position += curr_roll\n",
    "        #print(\"pos before sl = \", position)\n",
    "        for sl in snakes_n_ladders:\n",
    "            if (position in list(sl)):\n",
    "                position = sl[1]\n",
    "        num_rolls += 1\n",
    "        #print(\"pos after SL = \", position)\n",
    "    return(num_rolls)\n",
    "\n",
    "print(\"Number of rolls: \",play_snl())"
   ]
  },
  {
   "cell_type": "markdown",
   "metadata": {},
   "source": [
    "# QUESTION 4 (EXPECTED) - 1 point"
   ]
  },
  {
   "cell_type": "markdown",
   "metadata": {},
   "source": [
    "Use the full game simulation that incoprorates the snakes and ladders, simulate 1000 games and record \n",
    "probability distribution of the number of rolls as a histogram similarly to the previous subquestion. \n",
    "Modify your code to support the following additional ending variations: \n",
    "\n",
    "* Exact landing: the piece needs to end exactly at the last square. If the roll exceeds the square then it is discarded but counted for the number of rolls \n",
    "* Bounce back variation:  If the roll is too high, the player's piece will bounce off the last space and move back. For example, if a player had four spaces to get to 100 and rolled a 6, the piece will move four spaces to 100, then “bounce back\" two spaces to 98.\n",
    "\n",
    "\n",
    "Show the histogram of the number of rolls for each ending variation. "
   ]
  },
  {
   "cell_type": "code",
   "execution_count": 20,
   "metadata": {},
   "outputs": [
    {
     "name": "stdout",
     "output_type": "stream",
     "text": [
      "No Rules Mode:  12\n",
      "Exact Final Mode:  42\n",
      "Bounce Back Mode:  59\n"
     ]
    }
   ],
   "source": [
    "# YOUR CODE GOES HERE\n",
    "# Assumptions: no input for play_snl_advanced is the simple rules of just passing 100\n",
    "# Snakes and ladders board is always set up the same way with size 100\n",
    "\n",
    "def play_snl_advanced(mode=\"default\"):\n",
    "    board_size = 100\n",
    "    position = 0\n",
    "    num_rolls = 0\n",
    "    if (mode == \"default\"):\n",
    "        while (position < board_size):\n",
    "            curr_roll = random.randint(1,6)\n",
    "            position += curr_roll\n",
    "            for sl in snakes_n_ladders:\n",
    "                if (position in list(sl)):\n",
    "                    position = sl[1]\n",
    "            num_rolls += 1\n",
    "    elif (mode == \"exact\"):\n",
    "        while (position < board_size):\n",
    "            curr_roll = random.randint(1,6)\n",
    "            if (position+curr_roll > board_size):\n",
    "                num_rolls += 1\n",
    "            else:\n",
    "                position += curr_roll\n",
    "                for sl in snakes_n_ladders:\n",
    "                    if (position in list(sl)):\n",
    "                        position = sl[1]\n",
    "                num_rolls += 1\n",
    "    elif (mode == \"bounce\"):\n",
    "        while (position < board_size):\n",
    "            curr_roll = random.randint(1,6)\n",
    "            if (position+curr_roll > board_size):\n",
    "                bounce_back = position+curr_roll-board_size\n",
    "                position = board_size-bounce_back\n",
    "                for sl in snakes_n_ladders:\n",
    "                    if (position in list(sl)):\n",
    "                        position = sl[1]\n",
    "                num_rolls += 1\n",
    "            else:\n",
    "                position += curr_roll\n",
    "                for sl in snakes_n_ladders:\n",
    "                    if (position in list(sl)):\n",
    "                        position = sl[1]\n",
    "                num_rolls += 1\n",
    "    else:\n",
    "        print(\"Not a supported mode.\")\n",
    "    return(num_rolls)\n",
    "\n",
    "\n",
    "print(\"No Rules Mode: \", play_snl_advanced())\n",
    "print(\"Exact Final Mode: \", play_snl_advanced(\"exact\"))\n",
    "print(\"Bounce Back Mode: \", play_snl_advanced(\"bounce\"))"
   ]
  },
  {
   "cell_type": "code",
   "execution_count": 21,
   "metadata": {},
   "outputs": [
    {
     "name": "stdout",
     "output_type": "stream",
     "text": [
      "Average:  34.042\n"
     ]
    },
    {
     "data": {
      "image/png": "[encoded data removed]",
      "text/plain": [
       "<Figure size 432x288 with 1 Axes>"
      ]
     },
     "metadata": {
      "needs_background": "light"
     },
     "output_type": "display_data"
    }
   ],
   "source": [
    "simple_games = []\n",
    "for i in range(1000):\n",
    "    simple_games.append(play_snl_advanced())\n",
    "plt.hist(simple_games)\n",
    "print(\"Average: \", sum(simple_games)/len(simple_games))"
   ]
  },
  {
   "cell_type": "code",
   "execution_count": 22,
   "metadata": {},
   "outputs": [
    {
     "name": "stdout",
     "output_type": "stream",
     "text": [
      "Average:  38.06\n"
     ]
    },
    {
     "data": {
      "image/png": "[encoded data removed]",
      "text/plain": [
       "<Figure size 432x288 with 1 Axes>"
      ]
     },
     "metadata": {
      "needs_background": "light"
     },
     "output_type": "display_data"
    }
   ],
   "source": [
    "exact_games = []\n",
    "for i in range(1000):\n",
    "    exact_games.append(play_snl_advanced(\"exact\"))\n",
    "plt.hist(exact_games)\n",
    "print(\"Average: \", sum(exact_games)/len(exact_games))"
   ]
  },
  {
   "cell_type": "code",
   "execution_count": 23,
   "metadata": {},
   "outputs": [
    {
     "name": "stdout",
     "output_type": "stream",
     "text": [
      "Average:  63.355\n"
     ]
    },
    {
     "data": {
      "image/png": "[encoded data removed]",
      "text/plain": [
       "<Figure size 432x288 with 1 Axes>"
      ]
     },
     "metadata": {
      "needs_background": "light"
     },
     "output_type": "display_data"
    }
   ],
   "source": [
    "bounce_games = []\n",
    "for i in range(1000):\n",
    "    bounce_games.append(play_snl_advanced(\"bounce\"))\n",
    "plt.hist(bounce_games)\n",
    "print(\"Average: \", sum(bounce_games)/len(bounce_games))"
   ]
  },
  {
   "cell_type": "markdown",
   "metadata": {},
   "source": [
    "# QUESTION 5 (ADVANCED) - 1 point \n",
    "\n",
    "In this question the goal is to perform exact probabilistic inference for the number of rolls. Rather than simulating the game and recording the number of moves you will need to compute systematically the probabilities of every possible sequence of rolls. You should use the simplified version of board movement with no snakes and ladders and the simple landing rule. As an example let's consider a very short board of 4 squares. The only sequence of 1 roll that finishes the game is rolling a 4 which has $P(4) = 1/6$. For two rolls we have more possibilities such as 1,3 or 3,1 or 2,2 or 2,3 or 3,2 etc. For example the probability of (1,3) is $P(1,3) = 1/6 * 1/6$. Your code should systematically calculate the right products and sums to come up with probabilities for \n",
    "each possible number of rolls. To make this a bit simpler consider a board of length $25$. I advise that you first start by looking at very short boards and checking some of the calculations by hand. \n",
    "\n",
    "Compare the results you get from exact inference with the results you get from approximate inference for the same board length. "
   ]
  },
  {
   "cell_type": "code",
   "execution_count": 24,
   "metadata": {},
   "outputs": [
    {
     "name": "stdout",
     "output_type": "stream",
     "text": [
      "Counts for Exact Inference of Board Size 25:\n",
      "{1: 0,\n",
      " 2: 0,\n",
      " 3: 0,\n",
      " 4: 0,\n",
      " 5: 252,\n",
      " 6: 8092,\n",
      " 7: 82344,\n",
      " 8: 440541,\n",
      " 9: 1517758,\n",
      " 10: 3740418,\n",
      " 11: 7013136,\n",
      " 12: 10398986,\n",
      " 13: 12503964,\n",
      " 14: 12390144,\n",
      " 15: 10215232,\n",
      " 16: 7038561,\n",
      " 17: 4052340,\n",
      " 18: 1940210,\n",
      " 19: 764964,\n",
      " 20: 244398,\n",
      " 21: 61732,\n",
      " 22: 11868,\n",
      " 23: 1632,\n",
      " 24: 143,\n",
      " 25: 6}\n",
      "\n",
      "Counts for Approximate Inference Sampling of Board Size 25:\n",
      "{1: 0,\n",
      " 2: 0,\n",
      " 3: 0,\n",
      " 4: 0,\n",
      " 5: 4663,\n",
      " 6: 25191,\n",
      " 7: 42253,\n",
      " 8: 38356,\n",
      " 9: 21933,\n",
      " 10: 8849,\n",
      " 11: 2752,\n",
      " 12: 702,\n",
      " 13: 131,\n",
      " 14: 20,\n",
      " 15: 3,\n",
      " 16: 0,\n",
      " 17: 0,\n",
      " 18: 0,\n",
      " 19: 0,\n",
      " 20: 0,\n",
      " 21: 0,\n",
      " 22: 0,\n",
      " 23: 0,\n",
      " 24: 0,\n",
      " 25: 0}\n",
      "\n",
      "Probabilities for Exact Inference of Board Size 25:\n",
      "{1: 0.0,\n",
      " 2: 0.0,\n",
      " 3: 0.0,\n",
      " 4: 0.0,\n",
      " 5: 3.4793788331243104e-06,\n",
      " 6: 0.00011172672030810286,\n",
      " 7: 0.0011369284548999534,\n",
      " 8: 0.006082575517950067,\n",
      " 9: 0.02095577404367098,\n",
      " 10: 0.05164417149300463,\n",
      " 11: 0.09683078155643689,\n",
      " 12: 0.14357941180300016,\n",
      " 13: 0.17264296695138248,\n",
      " 14: 0.17107144751175468,\n",
      " 15: 0.14104230950894492,\n",
      " 16: 0.09718182602799318,\n",
      " 17: 0.055950896907234,\n",
      " 18: 0.026788593673873488,\n",
      " 19: 0.010561902975008353,\n",
      " 20: 0.003374417571658394,\n",
      " 21: 0.0008523373576445633,\n",
      " 22: 0.0001638621745695211,\n",
      " 23: 2.2533120062138392e-05,\n",
      " 24: 1.97440941720943e-06,\n",
      " 25: 8.284235316962644e-08}\n",
      "\n",
      "Probabilities for Approximate Inference Sampling of Board Size 25:\n",
      "{1: 0.0,\n",
      " 2: 0.0,\n",
      " 3: 0.0,\n",
      " 4: 0.0,\n",
      " 5: 0.03219125596294174,\n",
      " 6: 0.17390734054524243,\n",
      " 7: 0.2916957191083374,\n",
      " 8: 0.26479258282534707,\n",
      " 9: 0.1514155730292089,\n",
      " 10: 0.06108951833928189,\n",
      " 11: 0.018998570965047323,\n",
      " 12: 0.004846292448206112,\n",
      " 13: 0.0009043651149786335,\n",
      " 14: 0.00013807100992040206,\n",
      " 15: 2.071065148806031e-05,\n",
      " 16: 0.0,\n",
      " 17: 0.0,\n",
      " 18: 0.0,\n",
      " 19: 0.0,\n",
      " 20: 0.0,\n",
      " 21: 0.0,\n",
      " 22: 0.0,\n",
      " 23: 0.0,\n",
      " 24: 0.0,\n",
      " 25: 0.0}\n"
     ]
    }
   ],
   "source": [
    "# YOUR CODE GOES HERE \n",
    "# Assumptions: Recursion functions are commented out, but the output obtained is stored in the variable roll_dict\n",
    "# Assuming that a roll sequence that reaches target with fewer rolls is not counted again in the larger roll's total\n",
    "\n",
    "import pprint \n",
    "\n",
    "roll_dict = { 1:0, 2:0, 3:0, 4:0,\n",
    "                5:0, 6:0, 7:0, 8:0, 9:0, 10:0, 11:0, 12:0, 13:0, 14:0, 15:0, \n",
    "               16:0, 17:0, 18:0, 19:0, 20:0, 21:0, 22:0, 23:0, 24:0, 25:0}\n",
    "\n",
    "sampling_dict = { 1:0, 2:0, 3:0, 4:0,\n",
    "                5:0, 6:0, 7:0, 8:0, 9:0, 10:0, 11:0, 12:0, 13:0, 14:0, 15:0, \n",
    "               16:0, 17:0, 18:0, 19:0, 20:0, 21:0, 22:0, 23:0, 24:0, 25:0}\n",
    "\n",
    "def dice_adder(roll_goal, rolls_rem, roll_sum = 0):\n",
    "    \n",
    "    #base case\n",
    "    if (rolls_rem == 0):\n",
    "        if (roll_sum >= roll_goal):\n",
    "            return 1\n",
    "        return 0\n",
    "    # check for previously completed sequences that occured in fewer rolls\n",
    "    if (rolls_rem > 0 and roll_sum >= roll_goal):\n",
    "        return 0\n",
    "    \n",
    "    \n",
    "    #recursion\n",
    "    # optimization by discarding sums that will never reach to target goal\n",
    "    if (rolls_rem*6+roll_sum < roll_goal):\n",
    "        return 0\n",
    "    \n",
    "    rolls_rem -= 1\n",
    "    result = 0\n",
    "    for i in range (1,7):\n",
    "        result += dice_adder(roll_goal, rolls_rem, roll_sum+i)\n",
    "    return result\n",
    "    \n",
    "    \n",
    "def dice_prob_matrix(roll_goal):\n",
    "    total_rolls = 0\n",
    "    # i = remaining rolls in the dice_adder\n",
    "    for i in range(1,roll_goal+1):\n",
    "        roll_amount = dice_adder(roll_goal, i)\n",
    "        #total_rolls += roll_amount\n",
    "        roll_dict[i] = roll_amount\n",
    "        print(i, ':', roll_amount)\n",
    "        \n",
    "            \n",
    "# THE RECURSION FUNCTIONS ARE COMMENTED OUT SINCE THEY TAKE 14 MINUTES\n",
    "#The new roll_dict below is the output that was generate by running dice_prob_matrix(25)\n",
    "\n",
    "#dice_prob_matrix(25)\n",
    "roll_dict = {1: 0, 2: 0, 3: 0, 4: 0, 5: 252, 6: 8092, 7: 82344, 8: 440541, 9: 1517758, 10: 3740418, \n",
    "             11: 7013136, 12: 10398986, 13: 12503964, 14: 12390144, 15: 10215232, 16: 7038561, 17: 4052340, \n",
    "             18: 1940210, 19: 764964, 20: 244398, 21: 61732, 22: 11868, 23: 1632, 24: 143, 25: 6}\n",
    "print(\"Counts for Exact Inference of Board Size 25:\")\n",
    "pprint.pprint(roll_dict)\n",
    "total_rolls = 0\n",
    "sum_prob = 0\n",
    "for i in roll_dict:\n",
    "    total_rolls += roll_dict[i]\n",
    "for j in roll_dict:\n",
    "    roll_dict[j] = (roll_dict[j]/total_rolls)\n",
    "\n",
    "num_games = int(total_rolls/500)\n",
    "for game in range(num_games):\n",
    "    temp_roll = play_game(25)\n",
    "    sampling_dict[temp_roll] += 1\n",
    "print(\"\\nCounts for Approximate Inference Sampling of Board Size 25:\")\n",
    "pprint.pprint(sampling_dict)\n",
    "\n",
    "print(\"\\nProbabilities for Exact Inference of Board Size 25:\")\n",
    "pprint.pprint(roll_dict)\n",
    "\n",
    "for k in sampling_dict:\n",
    "    sampling_dict[k] = (sampling_dict[k]/num_games)\n",
    "\n",
    "print(\"\\nProbabilities for Approximate Inference Sampling of Board Size 25:\")\n",
    "pprint.pprint(sampling_dict)\n"
   ]
  },
  {
   "cell_type": "markdown",
   "metadata": {},
   "source": [
    "# Extra ideas (no credit) \n",
    "\n",
    "* Implement a GUI for showing the snakes/ladders board and support multiple players \n"
   ]
  },
  {
   "cell_type": "markdown",
   "metadata": {},
   "source": [
    "# Text Categorization\n",
    "\n",
    "\n",
    "Text categorization is the task of assigning a given document to one of a fixed set of categories, on the basis of text it contains. Naive Bayes models are often used for this task. In these models, the query variable is\n",
    "the document category, and the effect variables are the presence/absence\n",
    "of each word in the language; the assumption is that words occur independently in documents within a given category (condititional independence), with frequencies determined by document category. Download the following file: http://www.cs.cornell.edu/People/pabo/movie-review-data/review_polarity.tar.gz containing a dataset that has been used for text mining consisting of movie reviews classified into negative and positive. You\n",
    "will see that there are two folders for the positivie and negative category and they each contain multiple text files with the reviews. You can find more information about the dataset at: \n",
    "http://www.cs.cornell.edu/People/pabo/movie-review-data/\n",
    "\n",
    "\n",
    "Our goal will be to build a simple Naive Bayes classifier for this dataset. More complicated approaches using term frequency and inverse document frequency weighting and many more words are possible but the basic concepts\n",
    "are the same. The goal is to understand the whole process so DO NOT use existing machine learning packages but rather build the classifier from scratch.\n",
    "\n",
    "Our feature vector representation for each text file will be simply a binary vector that shows which of the following words are present in the text file: Awful Bad Boring Dull Effective Enjoyable Great Hilarious. For example the text file cv996 11592.txt would be represented as (0, 0, 0, 0, 1, 0, 1, 0) because it contains Effective and Great but none of the other words."
   ]
  },
  {
   "cell_type": "markdown",
   "metadata": {},
   "source": [
    "# Question 6 (Basic) -1 point\n",
    "\n",
    "Write code that parses the text files and calculates the probabilities for each dictionary word given the review polarity\n"
   ]
  },
  {
   "cell_type": "code",
   "execution_count": 25,
   "metadata": {},
   "outputs": [
    {
     "name": "stdout",
     "output_type": "stream",
     "text": [
      "Positive Polarity:\n",
      "awful :  0.019\n",
      "bad :  0.255\n",
      "boring :  0.048\n",
      "dull :  0.023\n",
      "effective :  0.12\n",
      "enjoyable :  0.095\n",
      "great :  0.408\n",
      "hilarious :  0.125\n",
      "\n",
      "Negative Polarity\n",
      "awful :  0.101\n",
      "bad :  0.505\n",
      "boring :  0.169\n",
      "dull :  0.091\n",
      "effective :  0.046\n",
      "enjoyable :  0.053\n",
      "great :  0.286\n",
      "hilarious :  0.05\n"
     ]
    }
   ],
   "source": [
    "# YOUR CODE GOES HERE \n",
    "# Used file traversing ideas from: https://newbedev.com/how-to-iterate-over-files-in-a-given-directory\n",
    "\n",
    "import os\n",
    "import numpy as np\n",
    "key_words = ['awful', 'bad', 'boring', 'dull', 'effective', 'enjoyable', 'great', 'hilarious']\n",
    "\n",
    "def review_probs(rev_type):\n",
    "    rev_totals = [0] * len(key_words)\n",
    "    for subdir, dirs, files in os.walk(r'./review_polarity/txt_sentoken' + os.sep + rev_type):\n",
    "        for filename in files:\n",
    "            rev_counts = [0] * len(key_words)\n",
    "            filepath = subdir + os.sep + filename\n",
    "            if filepath.endswith(\".txt\"):\n",
    "                f = open(filepath).read().lower()\n",
    "                for index,word in enumerate(key_words):\n",
    "                    if (word in f.split()):\n",
    "                        rev_counts[index] = 1\n",
    "                        #print(word)\n",
    "            rev_totals = np.add(rev_counts, rev_totals)\n",
    "    return rev_totals\n",
    "\n",
    "print(\"Positive Polarity:\")\n",
    "pos_rev_cnts = review_probs(\"pos\")\n",
    "for i1,v1 in enumerate(key_words):\n",
    "    print(v1, \": \", pos_rev_cnts[i1]/1000)\n",
    "#print(review_probs(\"pos\"))\n",
    "\n",
    "print(\"\\nNegative Polarity\")\n",
    "neg_rev_cnts = review_probs(\"neg\")\n",
    "for i2,v2 in enumerate(key_words):\n",
    "    print(v2, \": \", neg_rev_cnts[i2]/1000 )\n",
    "#print(review_probs(\"neg\"))"
   ]
  },
  {
   "cell_type": "markdown",
   "metadata": {},
   "source": [
    "# Question 7 (Basic)  - 1 point \n",
    "\n",
    "Explain how the probability estimates for each dictionary word given the review polarity can be combined to form a Naive Bayes classifier. You can look up Bernoulli Bayes model for this simple model where only presence/absence of a word is modeled.\n",
    "\n",
    "Your answer should be a description of the process with equations and a specific example as markdown text NOT python code. You will write the code in the next question. "
   ]
  },
  {
   "cell_type": "markdown",
   "metadata": {},
   "source": [
    "##### Bayes Theorem\n",
    "\n",
    "$P(A|B) = \\frac{P(B|A)P(A)}{P(B)}$\n",
    "\n",
    "## Naive Bayes\n",
    "If multiple variable for B then assume they are independent:\n",
    "\n",
    "$P(A|B_1, B_2,..., B_n) = \\alpha{P(B_1|A)P(B_2|A)...P(B_n|A) \\cdot P(A)}$\n",
    "\n",
    "## General NB Example - Negative Movie Review\n",
    "\n",
    "$P(neg|Key Words) = \\alpha{P(awful|neg) \\cdot P(bad|neg) \\cdot ... \\cdot P(hilarious|neg) \\cdot P(neg)}$\n",
    "\n",
    "## General NB Example - Positive Movie Review\n",
    "\n",
    "$P(pos|Key Words) = \\alpha{P(awful|pos) \\cdot P(bad|pos) \\cdot ... \\cdot P(hilarious|pos) \\cdot P(pos)}$\n",
    "\n",
    "\n",
    "### \\*Assumption\\*\n",
    "\n",
    "Assume that the probability of negative and positive reviews is:\n",
    "\n",
    "$P(neg) = P(pos) = 0.5$\n",
    "\n",
    "## Specific NB Example - Negative Movie Review\n",
    "\n",
    "##### __Example Text__:\n",
    "\n",
    "\"This movie was so __bad__ to watch, a __dull__ and __awful__ experience. Thank the __Great__ Creator I never have to see this cinematic disaster again.\"\n",
    "\n",
    "##### __Key Words Vector__:\n",
    "\n",
    "$(1,1,0,1,0,0,1,0)$\n",
    "\n",
    "##### __Calculations__:\n",
    "\n",
    "$P(pos|KeyWordsVector) = \\alpha{(0.019)(0.255)(1-0.048)(0.023)(1-0.12)(1-0.095)(0.408)(1-0.125) \\cdot (0.5)}$\n",
    "\n",
    "$ = \\alpha{(0.000015080926995)} = 0.03087415283816232 \\approx 3\\%$ chance of being a positive review.\n",
    "\n",
    "$P(neg|KeyWordsVector) = \\alpha{(0.101)(0.505)(1-0.169)(0.091)(1-0.046)(1-0.053)(0.286)(1-0.05) \\cdot (0.5)}$\n",
    "\n",
    "$ = \\alpha{(0.0004733835524785)} = 0.9691258471618377 \\approx 97\\%$ chance of being a negative review."
   ]
  },
  {
   "cell_type": "markdown",
   "metadata": {},
   "source": [
    "# QUESTION 8 (EXPECTED) 1 point\n",
    "\n",
    "Write Python code for classifying a particular test instance (in our case movie review) following a Bernolli Bayes approach. Your code should calculate the likelihood the review is positive given the correspondng conditional probabilities for each dictionary word as well as the likelihood the review is negative given the corresponding conditional probabilities for each dictionary word. Check that your code works by providing a few example cases of prediction. Your code should be written from \"scratch\" and only use numpy/scipy but **NOT** machine learning libraries like scikit-learn or tensorflow.\n",
    "\n"
   ]
  },
  {
   "cell_type": "code",
   "execution_count": 26,
   "metadata": {},
   "outputs": [
    {
     "name": "stdout",
     "output_type": "stream",
     "text": [
      "Review #1: This movie was so bad to watch, a dull and awful experience. Thank the Great Creator I never have to see this cinematic disaster again.\n",
      "P(pos|keywords) = 0.03087415283816232\n",
      "P(neg|keywords) = 0.9691258471618377\n",
      "\n",
      "Review #2: Wow this movie sure is hilarious and enjoyable . Nothing bad to say at all \n",
      "P(pos|keywords) = 0.6992710253276694\n",
      "P(neg|keywords) = 0.3007289746723306\n",
      "\n",
      "Review #3: I liked this film a lot !\n",
      "P(pos|keywords) = 0.5765123328156916\n",
      "P(neg|keywords) = 0.42348766718430847\n",
      "\n",
      "Review #4: Try all the words ! Awful bad boring dull effective enjoyable great hilarious\n",
      "P(pos|keywords) = 0.10210623243666489\n",
      "P(neg|keywords) = 0.897893767563335\n"
     ]
    }
   ],
   "source": [
    "# Assumptions: Assume that previously calculated probabilities from Q6 are correct\n",
    "# Assume that input strings are separated by spaces and keywords do not have punctuation directly following\n",
    "\n",
    "key_words = ['awful', 'bad', 'boring', 'dull', 'effective', 'enjoyable', 'great', 'hilarious']\n",
    "\n",
    "def classify_rev(rev):\n",
    "    pos_probs = [0.019, 0.255, 0.048, 0.023, 0.12, 0.095, 0.408, 0.125]\n",
    "    neg_probs = [0.101, 0.505, 0.169, 0.091, 0.046, 0.053, 0.286, 0.05]\n",
    "    pp = 0.5\n",
    "    pn = 0.5\n",
    "    rev = rev.lower()\n",
    "    vector = [0] * len(key_words)\n",
    "    for index,word in enumerate(key_words):\n",
    "        if (word in rev.split()):\n",
    "            vector[index] = 1\n",
    "    #print(\"Key Word Vector:\", vector)\n",
    "    for word,p,n in zip(vector,pos_probs,neg_probs):\n",
    "        if word:\n",
    "            pp *= p\n",
    "            pn *= n\n",
    "        else:\n",
    "            pp *= (1-p)\n",
    "            pn *= (1-n)\n",
    "    return (pp/(pp+pn), pn/(pp+pn))\n",
    "\n",
    "first_rev = \"This movie was so bad to watch, a dull and awful experience. Thank the Great Creator I never have to see this cinematic disaster again.\"\n",
    "print(\"Review #1:\", first_rev)\n",
    "temp_rev_pos, temp_rev_neg = classify_rev(first_rev)\n",
    "print(\"P(pos|keywords) =\", temp_rev_pos)\n",
    "print(\"P(neg|keywords) =\", temp_rev_neg)\n",
    "\n",
    "second_rev = \"Wow this movie sure is hilarious and enjoyable . Nothing bad to say at all \"\n",
    "print(\"\\nReview #2:\", second_rev)\n",
    "temp_rev_pos, temp_rev_neg = classify_rev(second_rev)\n",
    "print(\"P(pos|keywords) =\", temp_rev_pos)\n",
    "print(\"P(neg|keywords) =\", temp_rev_neg)\n",
    "\n",
    "third_rev = \"I liked this film a lot !\"\n",
    "print(\"\\nReview #3:\", third_rev)\n",
    "temp_rev_pos, temp_rev_neg = classify_rev(third_rev)\n",
    "print(\"P(pos|keywords) =\", temp_rev_pos)\n",
    "print(\"P(neg|keywords) =\", temp_rev_neg)\n",
    "\n",
    "fourth_rev = \"Try all the words ! Awful bad boring dull effective enjoyable great hilarious\"\n",
    "print(\"\\nReview #4:\", fourth_rev)\n",
    "temp_rev_pos, temp_rev_neg = classify_rev(fourth_rev)\n",
    "print(\"P(pos|keywords) =\", temp_rev_pos)\n",
    "print(\"P(neg|keywords) =\", temp_rev_neg)"
   ]
  },
  {
   "cell_type": "markdown",
   "metadata": {},
   "source": [
    "# QUESTION 9 (EXPECTED) 1 point \n",
    "\n",
    "\n",
    "Calculate the classification accuracy and confusion matrix that you would obtain using the whole data set for both training and testing. Do not use machine learning libraries like scikit-learn or tensorflow for this only the basic numpy/scipy stuff.\n",
    "\n",
    "\n"
   ]
  },
  {
   "cell_type": "code",
   "execution_count": 27,
   "metadata": {},
   "outputs": [
    {
     "name": "stdout",
     "output_type": "stream",
     "text": [
      "True Positive: 0.756\n",
      "False Negative: 0.244\n",
      "False Positive: 0.408\n",
      "True Negative: 0.592\n",
      "\n",
      "Accuracy = 0.674\n"
     ]
    }
   ],
   "source": [
    "# Assumptions:\n",
    "# If the probability of predicted neg and pos is equal (both 0.5), will classify as a negative review\n",
    "\n",
    "# Confusion Matrix Form:\n",
    "# TP: Predicted = pos, Acutal = pos\n",
    "# FP: Predicted = pos, Acutal = neg\n",
    "# TN: Predicted = neg, Acutal = neg\n",
    "# FN: Predicted = neg, Acutal = pos\n",
    "# Accuracy = (TP+TN)/(TP+FP+TN+FN)\n",
    "\n",
    "def confusion_matrix(rev_type):\n",
    "    pos_count = 0\n",
    "    neg_count = 0\n",
    "    for subdir, dirs, files in os.walk(r'./review_polarity/txt_sentoken' + os.sep + rev_type):\n",
    "        for filename in files:\n",
    "            filepath = subdir + os.sep + filename\n",
    "            if filepath.endswith(\".txt\"):\n",
    "                f = open(filepath).read().lower()\n",
    "                pos_predicted, neg_predicted = classify_rev(f)\n",
    "                if (pos_predicted > neg_predicted):\n",
    "                    pos_count += 1\n",
    "                else:\n",
    "                    neg_count += 1\n",
    "    return pos_count, neg_count\n",
    "\n",
    "#print(confusion_matrix(\"pos\"))\n",
    "ppc, pnc = confusion_matrix(\"pos\")\n",
    "print(\"True Positive:\", ppc/1000)\n",
    "print(\"False Negative:\", pnc/1000)\n",
    "#print(confusion_matrix(\"neg\"))\n",
    "npc, nnc = confusion_matrix(\"neg\")\n",
    "print(\"False Positive:\", npc/1000)\n",
    "print(\"True Negative:\", nnc/1000)\n",
    "print(\"\\nAccuracy =\", (ppc+nnc)/(ppc+pnc+npc+nnc))"
   ]
  },
  {
   "cell_type": "markdown",
   "metadata": {},
   "source": [
    "\n",
    "\n",
    "\n",
    "\n",
    "\n",
    "# QUESTION 10 (ADVANCED) 1 point \n",
    "\n",
    "One can consider the Naive Bayes classifier a generative model that can generate binary feature vectors using the associated probabilities from the training data. The idea is similar to how we do direct sampling in Bayesian Networks and depends on generating random number from a discrete distribution. Describe how you would generate random movie reviews consisting solely of the words from the dictionary using your model. Show 5 examples of randomly generated positive reviews and 5 examples of randomly generated negative reviews. Each example should consists of a subset of the words in the dictionary. Hint: use probabilities to generate both the presence and absence of a word. \n"
   ]
  },
  {
   "cell_type": "code",
   "execution_count": 28,
   "metadata": {},
   "outputs": [
    {
     "name": "stdout",
     "output_type": "stream",
     "text": [
      "Positive Review # 1 : ['great']\n",
      "Positive Review # 2 : pos review containing NO key words\n",
      "Positive Review # 3 : ['bad']\n",
      "Positive Review # 4 : ['enjoyable', 'hilarious']\n",
      "Positive Review # 5 : pos review containing NO key words\n",
      "\n",
      "Negative Review # 1 : ['bad', 'great']\n",
      "Negative Review # 2 : ['bad', 'dull']\n",
      "Negative Review # 3 : neg review containing NO key words\n",
      "Negative Review # 4 : ['bad']\n",
      "Negative Review # 5 : neg review containing NO key words\n"
     ]
    }
   ],
   "source": [
    "# Assumptions: A generated review is just a list of keywords, or a statement describing there are no key words present\n",
    "\n",
    "key_words = ['awful', 'bad', 'boring', 'dull', 'effective', 'enjoyable', 'great', 'hilarious']\n",
    "\n",
    "def rev_generator(rev_type):\n",
    "    gen_probs = []\n",
    "    if (rev_type == 'pos'):\n",
    "        gen_probs = [0.019, 0.255, 0.048, 0.023, 0.12, 0.095, 0.408, 0.125]\n",
    "    elif (rev_type == 'neg'):\n",
    "        gen_probs = [0.101, 0.505, 0.169, 0.091, 0.046, 0.053, 0.286, 0.05]\n",
    "    else:\n",
    "        print(\"Not a valid polarity\")\n",
    "        return -1\n",
    "    vector = [0]*len(gen_probs)\n",
    "    for i,prob in enumerate(gen_probs):\n",
    "        if (random.random() < prob):\n",
    "            vector[i] = 1\n",
    "    rev = []\n",
    "    for i2, word in enumerate(key_words):\n",
    "        if vector[i2]:\n",
    "            rev.append(key_words[i2])\n",
    "    if (rev == []):\n",
    "        rev = f\"{rev_type} review containing NO key words\"\n",
    "    return rev\n",
    "\n",
    "for i in range(5):\n",
    "    print(\"Positive Review #\", i+1, \":\", rev_generator(\"pos\"))\n",
    "print(\"\")\n",
    "for i in range(5):\n",
    "    print(\"Negative Review #\", i+1, \":\", rev_generator(\"neg\"))"
   ]
  },
  {
   "cell_type": "markdown",
   "metadata": {},
   "source": [
    "# Extra ideas (no credit) \n",
    "\n",
    "* Check the associated README file and see what convention is used for the 10-fold cross-validation. Calculate the classification accuracy and confusion matrix using the recommended 10-fold cross-validation. Again do NOT use \n",
    "ML libraries such as scikit-learn or tensorflow and just use numpy/scipy. \n",
    "* Implement the all the question using a ML library such as scikit-learn or tensorflow and a Naive Bayes Bernoulli classifier. \n"
   ]
  },
  {
   "cell_type": "code",
   "execution_count": null,
   "metadata": {},
   "outputs": [],
   "source": []
  },
  {
   "cell_type": "code",
   "execution_count": null,
   "metadata": {},
   "outputs": [],
   "source": []
  }
 ],
 "metadata": {
  "kernelspec": {
   "display_name": "Python 3",
   "language": "python",
   "name": "python3"
  },
  "language_info": {
   "codemirror_mode": {
    "name": "ipython",
    "version": 3
   },
   "file_extension": ".py",
   "mimetype": "text/x-python",
   "name": "python",
   "nbconvert_exporter": "python",
   "pygments_lexer": "ipython3",
   "version": "3.9.2"
  }
 },
 "nbformat": 4,
 "nbformat_minor": 4
}
